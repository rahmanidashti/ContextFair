{
 "cells": [
  {
   "cell_type": "markdown",
   "metadata": {},
   "source": [
    "# Temporal Split\n",
    "To split users based on the different timestamp"
   ]
  },
  {
   "cell_type": "code",
   "execution_count": 1,
   "metadata": {},
   "outputs": [],
   "source": [
    "import pandas as pd\n",
    "from collections import defaultdict\n",
    "from datetime import datetime\n",
    "import numpy as np\n",
    "from tqdm import tqdm\n",
    "import matplotlib.pyplot as plt\n",
    "import seaborn as sns\n",
    "sns.set_style(\"darkgrid\")"
   ]
  },
  {
   "cell_type": "code",
   "execution_count": 2,
   "metadata": {},
   "outputs": [],
   "source": [
    "ds_name = \"Yelp\""
   ]
  },
  {
   "cell_type": "markdown",
   "metadata": {},
   "source": [
    "Using the train dataset we generate some dictionary to have user and item profile based on the frequency of visit."
   ]
  },
  {
   "cell_type": "code",
   "execution_count": 3,
   "metadata": {},
   "outputs": [
    {
     "name": "stderr",
     "output_type": "stream",
     "text": [
      "100%|██████████| 196866/196866 [00:00<00:00, 295044.88it/s]\n"
     ]
    }
   ],
   "source": [
    "# read check-in frequency from train data\n",
    "train_data = open(f\"datasets/{ds_name}/{ds_name}_train.txt\", 'r').readlines()\n",
    "# uid_to_lid: shows the visited locations by a user (it is based on train set so there is no repeated lid; thus we use a set to show them)\n",
    "# uid -> set({lids})\n",
    "uid_to_lid = defaultdict(set)\n",
    "# uid_to_freq: to show the numebr of checkins frequency per user\n",
    "# uid -> check-in freq\n",
    "uid_to_freq = dict()\n",
    "# lid_to_freq: to show the number of time a location has been visted by users\n",
    "# lid -> check-in freq\n",
    "lid_to_freq = dict()\n",
    "\n",
    "for eachline in tqdm(train_data):\n",
    "    uid, lid, freq = eachline.strip().split()\n",
    "    uid, lid, freq = int(uid), int(lid), int(freq)\n",
    "    if uid in uid_to_lid.keys():\n",
    "        uid_to_lid[uid].add(lid)\n",
    "        uid_to_freq[uid] += freq\n",
    "    else:\n",
    "        uid_to_lid[uid] = {lid}\n",
    "        uid_to_freq[uid] = freq\n",
    "\n",
    "    if lid in lid_to_freq.keys():\n",
    "        lid_to_freq[lid] += freq\n",
    "    else:\n",
    "        lid_to_freq[lid] = freq"
   ]
  },
  {
   "cell_type": "code",
   "execution_count": 4,
   "metadata": {},
   "outputs": [],
   "source": [
    "# read checkins data\n",
    "checkins_data = pd.read_csv(f\"datasets/{ds_name}/{ds_name}_checkins.txt\", sep='\\t', names=['uid', 'lid', 'ctime'])"
   ]
  },
  {
   "cell_type": "code",
   "execution_count": 5,
   "metadata": {},
   "outputs": [
    {
     "data": {
      "text/plain": [
       "774320"
      ]
     },
     "execution_count": 5,
     "metadata": {},
     "output_type": "execute_result"
    }
   ],
   "source": [
    "# number of checkins in train data\n",
    "sum(uid_to_freq.values())"
   ]
  },
  {
   "cell_type": "code",
   "execution_count": 6,
   "metadata": {},
   "outputs": [
    {
     "name": "stderr",
     "output_type": "stream",
     "text": [
      "301753it [00:05, 58917.77it/s]\n"
     ]
    }
   ],
   "source": [
    "# time (hour) -> no. of check-ins\n",
    "# to generate the plot\n",
    "time_to_checkins = dict()\n",
    "\n",
    "for eachline in tqdm(checkins_data.itertuples(index=True)):\n",
    "    # Check if record exsists in train data (based on lid/location)\n",
    "    # We have 70% of check-ins data in the train set and if a user's checkins on a specific location with its frequency happns in train,\n",
    "    # it only happens in train set not test/dev sets.\n",
    "    if eachline.lid in uid_to_lid[eachline.uid]:\n",
    "        ctime = datetime.fromtimestamp(eachline.ctime).strftime('%Y-%m-%dT%H:%M:%S')\n",
    "        ctime_datetime_obj = datetime.strptime(ctime, '%Y-%m-%dT%H:%M:%S')\n",
    "        # checking the hour\n",
    "        hour = ctime_datetime_obj.hour\n",
    "        if hour in time_to_checkins.keys():\n",
    "            time_to_checkins[hour] += 1\n",
    "        else:\n",
    "            time_to_checkins[hour] = 1"
   ]
  },
  {
   "cell_type": "code",
   "execution_count": 7,
   "metadata": {},
   "outputs": [
    {
     "ename": "IndexError",
     "evalue": "tuple index out of range",
     "output_type": "error",
     "traceback": [
      "\u001b[0;31m---------------------------------------------------------------------------\u001b[0m",
      "\u001b[0;31mIndexError\u001b[0m                                Traceback (most recent call last)",
      "\u001b[0;32m/var/folders/nb/mtr544q50k388rbnch13x9dm0000gn/T/ipykernel_1866/3670048385.py\u001b[0m in \u001b[0;36m<module>\u001b[0;34m\u001b[0m\n\u001b[1;32m      2\u001b[0m \u001b[0mbarlist\u001b[0m \u001b[0;34m=\u001b[0m \u001b[0mplt\u001b[0m\u001b[0;34m.\u001b[0m\u001b[0mbar\u001b[0m\u001b[0;34m(\u001b[0m\u001b[0mlist\u001b[0m\u001b[0;34m(\u001b[0m\u001b[0mtime_to_checkins\u001b[0m\u001b[0;34m.\u001b[0m\u001b[0mkeys\u001b[0m\u001b[0;34m(\u001b[0m\u001b[0;34m)\u001b[0m\u001b[0;34m)\u001b[0m\u001b[0;34m,\u001b[0m \u001b[0mtime_to_checkins\u001b[0m\u001b[0;34m.\u001b[0m\u001b[0mvalues\u001b[0m\u001b[0;34m(\u001b[0m\u001b[0;34m)\u001b[0m\u001b[0;34m,\u001b[0m \u001b[0mcolor\u001b[0m\u001b[0;34m=\u001b[0m\u001b[0;34m'g'\u001b[0m\u001b[0;34m)\u001b[0m\u001b[0;34m\u001b[0m\u001b[0;34m\u001b[0m\u001b[0m\n\u001b[1;32m      3\u001b[0m \u001b[0mbarlist\u001b[0m\u001b[0;34m[\u001b[0m\u001b[0;36m0\u001b[0m\u001b[0;34m]\u001b[0m\u001b[0;34m.\u001b[0m\u001b[0mset_color\u001b[0m\u001b[0;34m(\u001b[0m\u001b[0;34m'r'\u001b[0m\u001b[0;34m)\u001b[0m\u001b[0;34m\u001b[0m\u001b[0;34m\u001b[0m\u001b[0m\n\u001b[0;32m----> 4\u001b[0;31m \u001b[0mbarlist\u001b[0m\u001b[0;34m[\u001b[0m\u001b[0;36m2\u001b[0m\u001b[0;34m]\u001b[0m\u001b[0;34m.\u001b[0m\u001b[0mset_color\u001b[0m\u001b[0;34m(\u001b[0m\u001b[0;34m'r'\u001b[0m\u001b[0;34m)\u001b[0m\u001b[0;34m\u001b[0m\u001b[0;34m\u001b[0m\u001b[0m\n\u001b[0m\u001b[1;32m      5\u001b[0m \u001b[0mbarlist\u001b[0m\u001b[0;34m[\u001b[0m\u001b[0;36m3\u001b[0m\u001b[0;34m]\u001b[0m\u001b[0;34m.\u001b[0m\u001b[0mset_color\u001b[0m\u001b[0;34m(\u001b[0m\u001b[0;34m'r'\u001b[0m\u001b[0;34m)\u001b[0m\u001b[0;34m\u001b[0m\u001b[0;34m\u001b[0m\u001b[0m\n\u001b[1;32m      6\u001b[0m \u001b[0mbarlist\u001b[0m\u001b[0;34m[\u001b[0m\u001b[0;36m4\u001b[0m\u001b[0;34m]\u001b[0m\u001b[0;34m.\u001b[0m\u001b[0mset_color\u001b[0m\u001b[0;34m(\u001b[0m\u001b[0;34m'r'\u001b[0m\u001b[0;34m)\u001b[0m\u001b[0;34m\u001b[0m\u001b[0;34m\u001b[0m\u001b[0m\n",
      "\u001b[0;31mIndexError\u001b[0m: tuple index out of range"
     ]
    },
    {
     "data": {
      "image/png": "[encoded data removed]",
      "text/plain": [
       "<Figure size 432x288 with 1 Axes>"
      ]
     },
     "metadata": {},
     "output_type": "display_data"
    }
   ],
   "source": [
    "# time check-ins plot\n",
    "barlist = plt.bar(list(time_to_checkins.keys()), time_to_checkins.values(), color='g')\n",
    "barlist[0].set_color('r')\n",
    "barlist[2].set_color('r')\n",
    "barlist[3].set_color('r')\n",
    "barlist[4].set_color('r')\n",
    "barlist[5].set_color('r')\n",
    "barlist[7].set_color('r')\n",
    "barlist[9].set_color('r')\n",
    "barlist[10].set_color('r')\n",
    "barlist[11].set_color('r')\n",
    "barlist[16].set_color('r')\n",
    "barlist[22].set_color('r')\n",
    "plt.xticks(np.arange(len(list(time_to_checkins.keys()))))\n",
    "plt.xlabel(\"Time (Hour)\", fontsize=15)\n",
    "plt.ylabel(\"Number of check-ins\", fontsize=15)\n",
    "plt.margins(0)\n",
    "plt.savefig(f\"plots/{ds_name}/checkins_time_hist.pdf\", bbox_inches=\"tight\")"
   ]
  },
  {
   "cell_type": "markdown",
   "metadata": {},
   "source": [
    "Here we split the check-in from the train data based on leisure and working timestamp."
   ]
  },
  {
   "cell_type": "code",
   "execution_count": 5,
   "metadata": {},
   "outputs": [
    {
     "name": "stderr",
     "output_type": "stream",
     "text": [
      "301753it [00:05, 55287.85it/s]\n"
     ]
    }
   ],
   "source": [
    "# uid/lid -> no. of working check-ins\n",
    "user_working_checkins = dict()\n",
    "item_working_checkins = dict()\n",
    "# uid/lid -> no. of leisure check-ins\n",
    "user_leisure_checkins = dict()\n",
    "item_leisure_checkins = dict()\n",
    "\n",
    "for eachline in tqdm(checkins_data.itertuples(index=True)):\n",
    "    # check if record exsists in train data (based on lid/location)\n",
    "    if eachline.lid in uid_to_lid[eachline.uid]:\n",
    "        is_working = 0\n",
    "        is_leisure = 0\n",
    "        ctime = datetime.fromtimestamp(eachline.ctime).strftime('%Y-%m-%dT%H:%M:%S')\n",
    "        ctime_datetime_obj = datetime.strptime(ctime, '%Y-%m-%dT%H:%M:%S')\n",
    "        # checking the weekday or weekend\n",
    "        if ctime_datetime_obj.weekday() < 5:\n",
    "            # 0 to 4 weekdays\n",
    "            if ctime.split('T')[1] >= '08:00:00' and ctime.split('T')[1] <= '18:00:00':\n",
    "                is_working = 1\n",
    "            else:\n",
    "                is_leisure = 1\n",
    "        else:\n",
    "            # 5 or 6 weekends\n",
    "            # sun and sat\n",
    "            is_leisure = 1\n",
    "            \n",
    "        # user\n",
    "        if eachline.uid in user_working_checkins.keys():\n",
    "            user_working_checkins[eachline.uid] += is_working\n",
    "            user_leisure_checkins[eachline.uid] += is_leisure\n",
    "        else:\n",
    "            user_working_checkins[eachline.uid] = is_working\n",
    "            user_leisure_checkins[eachline.uid] = is_leisure\n",
    "        # item\n",
    "        if eachline.lid in item_working_checkins.keys():\n",
    "            item_working_checkins[eachline.lid] += is_working\n",
    "            item_leisure_checkins[eachline.lid] += is_leisure\n",
    "        else:\n",
    "            item_working_checkins[eachline.lid] = is_working\n",
    "            item_leisure_checkins[eachline.lid] = is_leisure"
   ]
  },
  {
   "cell_type": "code",
   "execution_count": 9,
   "metadata": {},
   "outputs": [
    {
     "data": {
      "text/plain": [
       "False"
      ]
     },
     "execution_count": 9,
     "metadata": {},
     "output_type": "execute_result"
    }
   ],
   "source": [
    "# check\n",
    "sample_user = 3\n",
    "uid_to_freq[sample_user] == user_working_checkins[sample_user] + user_leisure_checkins[sample_user]"
   ]
  },
  {
   "cell_type": "code",
   "execution_count": 10,
   "metadata": {},
   "outputs": [
    {
     "data": {
      "text/plain": [
       "False"
      ]
     },
     "execution_count": 10,
     "metadata": {},
     "output_type": "execute_result"
    }
   ],
   "source": [
    "# check\n",
    "sample_item = 3\n",
    "lid_to_freq[sample_item] == item_working_checkins[sample_item] + item_leisure_checkins[sample_item]"
   ]
  },
  {
   "cell_type": "code",
   "execution_count": 11,
   "metadata": {},
   "outputs": [],
   "source": [
    "users_checkins = pd.DataFrame(columns=['uid', 'profile_size', 'leisure_size', 'working_size', 'leisure_precentage', 'working_precentage'])"
   ]
  },
  {
   "cell_type": "code",
   "execution_count": 12,
   "metadata": {},
   "outputs": [
    {
     "data": {
      "text/html": [
       "<div>\n",
       "<style scoped>\n",
       "    .dataframe tbody tr th:only-of-type {\n",
       "        vertical-align: middle;\n",
       "    }\n",
       "\n",
       "    .dataframe tbody tr th {\n",
       "        vertical-align: top;\n",
       "    }\n",
       "\n",
       "    .dataframe thead th {\n",
       "        text-align: right;\n",
       "    }\n",
       "</style>\n",
       "<table border=\"1\" class=\"dataframe\">\n",
       "  <thead>\n",
       "    <tr style=\"text-align: right;\">\n",
       "      <th></th>\n",
       "      <th>uid</th>\n",
       "      <th>profile_size</th>\n",
       "      <th>leisure_size</th>\n",
       "      <th>working_size</th>\n",
       "      <th>leisure_precentage</th>\n",
       "      <th>working_precentage</th>\n",
       "    </tr>\n",
       "  </thead>\n",
       "  <tbody>\n",
       "  </tbody>\n",
       "</table>\n",
       "</div>"
      ],
      "text/plain": [
       "Empty DataFrame\n",
       "Columns: [uid, profile_size, leisure_size, working_size, leisure_precentage, working_precentage]\n",
       "Index: []"
      ]
     },
     "execution_count": 12,
     "metadata": {},
     "output_type": "execute_result"
    }
   ],
   "source": [
    "users_checkins.head()"
   ]
  },
  {
   "cell_type": "code",
   "execution_count": 13,
   "metadata": {},
   "outputs": [
    {
     "name": "stderr",
     "output_type": "stream",
     "text": [
      "100%|██████████| 7135/7135 [00:12<00:00, 589.98it/s]\n"
     ]
    }
   ],
   "source": [
    "for eachuid in tqdm(uid_to_lid.keys()):\n",
    "    users_checkins = users_checkins.append({'uid': float(eachuid), 'profile_size': float(uid_to_freq[eachuid]),\n",
    "    'leisure_size': float(user_leisure_checkins[eachuid]), 'working_size': float(user_working_checkins[eachuid]),\n",
    "    'leisure_precentage': float(user_leisure_checkins[eachuid]) / float(uid_to_freq[eachuid]),\n",
    "    'working_precentage': float(user_working_checkins[eachuid]) / float(uid_to_freq[eachuid])}, ignore_index=True)"
   ]
  },
  {
   "cell_type": "code",
   "execution_count": 14,
   "metadata": {},
   "outputs": [
    {
     "data": {
      "text/html": [
       "<div>\n",
       "<style scoped>\n",
       "    .dataframe tbody tr th:only-of-type {\n",
       "        vertical-align: middle;\n",
       "    }\n",
       "\n",
       "    .dataframe tbody tr th {\n",
       "        vertical-align: top;\n",
       "    }\n",
       "\n",
       "    .dataframe thead th {\n",
       "        text-align: right;\n",
       "    }\n",
       "</style>\n",
       "<table border=\"1\" class=\"dataframe\">\n",
       "  <thead>\n",
       "    <tr style=\"text-align: right;\">\n",
       "      <th></th>\n",
       "      <th>uid</th>\n",
       "      <th>profile_size</th>\n",
       "      <th>leisure_size</th>\n",
       "      <th>working_size</th>\n",
       "      <th>leisure_precentage</th>\n",
       "      <th>working_precentage</th>\n",
       "    </tr>\n",
       "  </thead>\n",
       "  <tbody>\n",
       "    <tr>\n",
       "      <th>0</th>\n",
       "      <td>0.0</td>\n",
       "      <td>113.0</td>\n",
       "      <td>27.0</td>\n",
       "      <td>0.0</td>\n",
       "      <td>0.238938</td>\n",
       "      <td>0.0</td>\n",
       "    </tr>\n",
       "    <tr>\n",
       "      <th>1</th>\n",
       "      <td>1.0</td>\n",
       "      <td>31.0</td>\n",
       "      <td>8.0</td>\n",
       "      <td>0.0</td>\n",
       "      <td>0.258065</td>\n",
       "      <td>0.0</td>\n",
       "    </tr>\n",
       "    <tr>\n",
       "      <th>2</th>\n",
       "      <td>2.0</td>\n",
       "      <td>451.0</td>\n",
       "      <td>120.0</td>\n",
       "      <td>0.0</td>\n",
       "      <td>0.266075</td>\n",
       "      <td>0.0</td>\n",
       "    </tr>\n",
       "    <tr>\n",
       "      <th>3</th>\n",
       "      <td>3.0</td>\n",
       "      <td>44.0</td>\n",
       "      <td>11.0</td>\n",
       "      <td>0.0</td>\n",
       "      <td>0.250000</td>\n",
       "      <td>0.0</td>\n",
       "    </tr>\n",
       "    <tr>\n",
       "      <th>4</th>\n",
       "      <td>4.0</td>\n",
       "      <td>440.0</td>\n",
       "      <td>108.0</td>\n",
       "      <td>0.0</td>\n",
       "      <td>0.245455</td>\n",
       "      <td>0.0</td>\n",
       "    </tr>\n",
       "  </tbody>\n",
       "</table>\n",
       "</div>"
      ],
      "text/plain": [
       "   uid  profile_size  leisure_size  working_size  leisure_precentage  \\\n",
       "0  0.0         113.0          27.0           0.0            0.238938   \n",
       "1  1.0          31.0           8.0           0.0            0.258065   \n",
       "2  2.0         451.0         120.0           0.0            0.266075   \n",
       "3  3.0          44.0          11.0           0.0            0.250000   \n",
       "4  4.0         440.0         108.0           0.0            0.245455   \n",
       "\n",
       "   working_precentage  \n",
       "0                 0.0  \n",
       "1                 0.0  \n",
       "2                 0.0  \n",
       "3                 0.0  \n",
       "4                 0.0  "
      ]
     },
     "execution_count": 14,
     "metadata": {},
     "output_type": "execute_result"
    }
   ],
   "source": [
    "users_checkins.head()"
   ]
  },
  {
   "cell_type": "code",
   "execution_count": null,
   "metadata": {},
   "outputs": [],
   "source": [
    "# 1: no. of working time vs no. of leisure time\n",
    "# plot on working and leisure checkin size (number of working time vs number of leisure time - with x=y line)\n",
    "fig, ax = plt.subplots(figsize=(6, 4))\n",
    "p1 = sns.regplot(data=users_checkins, x=\"working_size\", y=\"leisure_size\", ax=ax)\n",
    "p2 = sns.lineplot(data=users_checkins, x='working_size', y='working_size', color='orange', ax=ax)\n",
    "p1.set_xlabel(\"No. of Check-ins in Working Time\", size=13)\n",
    "p1.set_ylabel(\"No. of Check-ins in Leisure Time\", size=13)\n",
    "plt.savefig(f\"plots/{ds_name}/working_leisure_count.pdf\", bbox_inches=\"tight\")"
   ]
  },
  {
   "cell_type": "code",
   "execution_count": null,
   "metadata": {},
   "outputs": [],
   "source": [
    "# 2: Percentage of working time vs user profile\n",
    "fig, ax = plt.subplots(figsize=(6, 4))\n",
    "p1 = sns.regplot(data=users_checkins, x='profile_size', y='working_precentage', ax=ax)\n",
    "p1.set_xlabel(\"Users Profile Size\", size=13)\n",
    "p1.set_ylabel(\"Precentage of Check-ins in Working Time\", size=13)\n",
    "plt.savefig(f\"plots/{ds_name}/working_pre_profile_size.pdf\", bbox_inches=\"tight\")"
   ]
  },
  {
   "cell_type": "code",
   "execution_count": null,
   "metadata": {},
   "outputs": [],
   "source": [
    "# 3: Percentage of leisure time vs user profile\n",
    "fig, ax = plt.subplots(figsize=(6, 4))\n",
    "p1 = sns.regplot(data=users_checkins, x='profile_size', y='leisure_precentage', ax=ax)\n",
    "p1.set_xlabel(\"Users Profile Size\", size=13)\n",
    "p1.set_ylabel(\"Precentage of Check-ins in Leisure Time\", size=13)\n",
    "plt.savefig(f\"plots/{ds_name}/leisure_pre_profile_size.pdf\", bbox_inches=\"tight\")"
   ]
  },
  {
   "cell_type": "code",
   "execution_count": null,
   "metadata": {},
   "outputs": [],
   "source": [
    "# 4: No. of working time vs. Profile size\n",
    "fig, ax = plt.subplots(figsize=(6, 4))\n",
    "p1 = sns.regplot(data=users_checkins, x='working_size', y='profile_size', ax=ax)\n",
    "p2 = sns.lineplot(data=users_checkins, x='working_size', y='working_size', color='orange', ax=ax)\n",
    "p1.set_xlabel(\"No. of Check-ins in Working Time\", size=13)\n",
    "p1.set_ylabel(\"Users Profile Size\", size=13)\n",
    "plt.savefig(f\"plots/{ds_name}/working_count_profile_size.pdf\", bbox_inches=\"tight\")"
   ]
  },
  {
   "cell_type": "code",
   "execution_count": null,
   "metadata": {},
   "outputs": [],
   "source": [
    "# 5: No. of leisure time vs. Profile size\n",
    "fig, ax = plt.subplots(figsize=(6, 4))\n",
    "p1 = sns.regplot(data=users_checkins, x='leisure_size', y='profile_size', ax=ax)\n",
    "p2 = sns.lineplot(data=users_checkins, x='leisure_size', y='leisure_size', color='orange', ax=ax)\n",
    "p1.set_xlabel(\"No. of Check-ins in Leisure Time\", size=13)\n",
    "p1.set_ylabel(\"Users Profile Size\", size=13)\n",
    "plt.savefig(f\"plots/{ds_name}/leisure_count_profile_size.pdf\", bbox_inches=\"tight\")"
   ]
  },
  {
   "cell_type": "code",
   "execution_count": null,
   "metadata": {},
   "outputs": [],
   "source": [
    "# 6: No. of leisure time vs No. of working time\n",
    "fig, ax = plt.subplots(figsize=(6, 4))\n",
    "p1 = sns.regplot(data=users_checkins, x='leisure_size', y='working_size', ax=ax)\n",
    "p2 = sns.lineplot(data=users_checkins, x='leisure_size', y='leisure_size', color='orange', ax=ax)\n",
    "p1.set_xlabel(\"No. of Check-ins in Leisure Time\", size=13)\n",
    "p1.set_ylabel(\"No. of Check-ins in Working Time\", size=13)\n",
    "plt.savefig(f\"plots/{ds_name}/leisure_working_count.pdf\", bbox_inches=\"tight\")"
   ]
  },
  {
   "cell_type": "markdown",
   "metadata": {},
   "source": [
    "### User leisure and working groups"
   ]
  },
  {
   "cell_type": "code",
   "execution_count": 15,
   "metadata": {},
   "outputs": [],
   "source": [
    "# compute user leisure precentage\n",
    "user_leisure_precentage = dict()\n",
    "for uid in uid_to_freq.keys():\n",
    "    user_leisure_precentage[uid] = user_leisure_checkins[uid] * (user_leisure_checkins[uid] / uid_to_freq[uid])\n",
    "\n",
    "# sort based on leisure precentage\n",
    "sorted_user_leisure_precentage = {k: v for k, v in sorted(user_leisure_precentage.items(), key=lambda item: item[1], reverse=True)}"
   ]
  },
  {
   "cell_type": "code",
   "execution_count": 16,
   "metadata": {},
   "outputs": [],
   "source": [
    "# compute user leisure precentage\n",
    "user_working_precentage = dict()\n",
    "for uid in uid_to_freq.keys():\n",
    "    user_working_precentage[uid] = user_working_checkins[uid] * (user_working_checkins[uid] / uid_to_freq[uid])\n",
    "\n",
    "# sort based on leisure precentage\n",
    "sorted_user_working_precentage = {k: v for k, v in sorted(user_working_precentage.items(), key=lambda item: item[1], reverse=True)}"
   ]
  },
  {
   "cell_type": "code",
   "execution_count": 18,
   "metadata": {},
   "outputs": [],
   "source": [
    "# top no. of users based on precentage and fraction\n",
    "top_fraction = 0.2\n",
    "top_num = round(0.2 * len(uid_to_freq.keys()))"
   ]
  },
  {
   "cell_type": "code",
   "execution_count": null,
   "metadata": {},
   "outputs": [],
   "source": [
    "# leisure-focused users\n",
    "leisure_focused_users = list(sorted_user_leisure_precentage.keys())[:top_num]\n",
    "# working-focused users\n",
    "working_focused_users = list(sorted_user_leisure_precentage.keys())[-top_num:]"
   ]
  },
  {
   "cell_type": "code",
   "execution_count": null,
   "metadata": {},
   "outputs": [],
   "source": [
    "working_ids = open(f\"groups/user_groups/{ds_name}/working.txt\", 'w')\n",
    "leisure_ids = open(f\"groups/user_groups/{ds_name}/leisure.txt\", 'w')\n",
    "\n",
    "for uid in working_focused_users:\n",
    "        working_ids.write(str(uid) + '\\n')\n",
    "\n",
    "for uid in leisure_focused_users:\n",
    "        leisure_ids.write(str(uid) + '\\n')\n",
    "        \n",
    "working_ids.close()\n",
    "leisure_ids.close()"
   ]
  },
  {
   "cell_type": "markdown",
   "metadata": {},
   "source": [
    "### Item groups"
   ]
  },
  {
   "cell_type": "code",
   "execution_count": null,
   "metadata": {},
   "outputs": [],
   "source": [
    "# compute item leisure precentage\n",
    "item_leisure_precentage = dict()\n",
    "for lid in lid_to_freq.keys():\n",
    "    item_leisure_precentage[lid] = item_leisure_checkins[lid] * (item_leisure_checkins[lid] / lid_to_freq[lid])\n",
    "\n",
    "# sort based on leisure precentage\n",
    "sorted_item_leisure_precentage = {k: v for k, v in sorted(item_leisure_precentage.items(), key=lambda item: item[1], reverse=True)}"
   ]
  },
  {
   "cell_type": "code",
   "execution_count": null,
   "metadata": {},
   "outputs": [],
   "source": [
    "# top no. of users based on precentage and fraction\n",
    "top_fraction = 0.2\n",
    "top_num = round(0.2 * len(lid_to_freq.keys()))"
   ]
  },
  {
   "cell_type": "code",
   "execution_count": null,
   "metadata": {},
   "outputs": [],
   "source": [
    "# leisure-focused items\n",
    "leisure_focused_items = list(sorted_item_leisure_precentage.keys())[:top_num]\n",
    "# working-focused items\n",
    "working_focused_items = list(sorted_item_leisure_precentage.keys())[-top_num:]"
   ]
  },
  {
   "cell_type": "code",
   "execution_count": null,
   "metadata": {},
   "outputs": [],
   "source": [
    "working_items = open(f\"groups/item_groups/{ds_name}/working.txt\", 'w')\n",
    "leisure_items = open(f\"groups/item_groups/{ds_name}/leisure.txt\", 'w')\n",
    "\n",
    "for lid in working_focused_items:\n",
    "        working_items.write(str(lid) + '\\n')\n",
    "\n",
    "for lid in leisure_focused_items:\n",
    "        leisure_items.write(str(lid) + '\\n')\n",
    "        \n",
    "working_items.close()\n",
    "leisure_items.close()"
   ]
  },
  {
   "cell_type": "code",
   "execution_count": null,
   "metadata": {},
   "outputs": [],
   "source": []
  }
 ],
 "metadata": {
  "interpreter": {
   "hash": "0adcc2737ebf6a4a119f135174df96668767fca1ef1112612db5ecadf2b6d608"
  },
  "kernelspec": {
   "display_name": "Python 3.8.0 64-bit",
   "language": "python",
   "name": "python3"
  },
  "language_info": {
   "codemirror_mode": {
    "name": "ipython",
    "version": 3
   },
   "file_extension": ".py",
   "mimetype": "text/x-python",
   "name": "python",
   "nbconvert_exporter": "python",
   "pygments_lexer": "ipython3",
   "version": "3.8.0"
  },
  "orig_nbformat": 4
 },
 "nbformat": 4,
 "nbformat_minor": 2
}
