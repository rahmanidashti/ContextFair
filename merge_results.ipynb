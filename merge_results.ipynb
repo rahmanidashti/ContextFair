{
 "cells": [
  {
   "cell_type": "code",
   "execution_count": 1,
   "metadata": {},
   "outputs": [],
   "source": [
    "import pandas as pd"
   ]
  },
  {
   "cell_type": "code",
   "execution_count": 2,
   "metadata": {},
   "outputs": [],
   "source": [
    "top_n = ['20']"
   ]
  },
  {
   "cell_type": "code",
   "execution_count": 3,
   "metadata": {},
   "outputs": [
    {
     "data": {
      "text/plain": [
       "138"
      ]
     },
     "execution_count": 3,
     "metadata": {},
     "output_type": "execute_result"
    }
   ],
   "source": [
    "# results_df = pd.DataFrame(columns=['Dataset', 'Model', 'Fusion', 'TopN', 'Group', 'Precision', 'Recall', 'MAP'])\n",
    "results_df = open(f\"results/all_results_{top_n[0]}.csv\", 'w')\n",
    "# results_df.write(\"Dataset,Model,Fusion,_all_pre,_all_rec,_all_map,_all_ndcg,_leisure_pre,_leisure_rec,_leisure_map,_leisure_ndcg,_working_pre,_working_rec,_working_map,_working_ndcg,_active_pre,_active_rec,_active_map,_active_ndcg,_inactive_pre,_inactive_rec,_inactive_map,_inactive_ndcg\\n\")\n",
    "# results_df.write(\"Dataset,Model,Fusion,_all_pre,_all_rec,_all_map,_all_ndcg,_leisure_pre,_leisure_rec,_leisure_map,_leisure_ndcg,_working_pre,_working_rec,_working_map,_working_ndcg\\n\") \n",
    "results_df.write(\"Dataset,Model,Fusion,_all_pre,_leisure_pre,_working_pre,_all_rec,_leisure_rec,_working_rec,_all_ndcg,_leisure_ndcg,_working_ndcg,Delta\\n\")"
   ]
  },
  {
   "cell_type": "code",
   "execution_count": null,
   "metadata": {},
   "outputs": [],
   "source": [
    "datasets = ['Gowalla', 'Yelp']\n",
    "models = ['GeoSoCa', 'LORE', 'CF', 'PFM']\n",
    "\n",
    "_all_pre, _all_rec, _all_map, _all_ndcg = 0, 0, 0, 0\n",
    "_leisure_pre, _leisure_rec, _leisure_map, _leisure_ndcg = 0, 0, 0, 0\n",
    "_working_pre, _working_rec, _working_map,_working_ndcg = 0, 0, 0, 0\n",
    "# _active_pre, _active_rec, _active_map, _active_ndcg = 0, 0, 0, 0\n",
    "# _inactive_pre, _inactive_rec, _inactive_map, _inactive_ndcg = 0, 0, 0, 0\n",
    "\n",
    "for dataset in datasets:\n",
    "    for model in models:\n",
    "        if model in ['CF', 'PFM']:\n",
    "            fusions = ['main']\n",
    "        elif dataset== 'Gowalla' and model == 'GeoSoCa':\n",
    "            fusions = ['mul', 'sum', 'local', 'local_1', 'local_2', 'local_3', 'w19', 'w37', 'w55', 'w73', 'w91']\n",
    "        else:\n",
    "            fusions = ['mul', 'sum', 'local', 'local_1', 'local_2', 'local_3', 'local', 'w117', 'w144', 'w171', 'w333', 'w414', 'w441', 'w711']\n",
    "        for fusion in fusions:\n",
    "            for topn in top_n:\n",
    "                path = \"results/\" + dataset + \"/\" + model + \"/\" + model + \"_\" + fusion\n",
    "                user_groups = ['all', 'leisure', 'working']\n",
    "                # user_groups = ['all', 'leisure', 'working', 'active', 'inactive']\n",
    "                \n",
    "                for user_group in user_groups:\n",
    "                    resutl_file = pd.read_csv(f\"{path}/result_mean_{str(topn)}_{user_group}.txt\", sep='\\t') \n",
    "                    if user_group == 'all':\n",
    "                        _all_pre, _all_rec, _all_map, _all_ndcg = resutl_file['Precision'].values[0], resutl_file['Recall'].values[0], resutl_file['MAP'].values[0], resutl_file['NDCG'].values[0]\n",
    "                    elif user_group == 'leisure':\n",
    "                        _leisure_pre, _leisure_rec, _leisure_map, _leisure_ndcg = resutl_file['Precision'].values[0], resutl_file['Recall'].values[0], resutl_file['MAP'].values[0], resutl_file['NDCG'].values[0]\n",
    "                    elif user_group == 'working':\n",
    "                        _working_pre, _working_rec, _working_map, _working_ndcg = resutl_file['Precision'].values[0], resutl_file['Recall'].values[0], resutl_file['MAP'].values[0], resutl_file['NDCG'].values[0]\n",
    "                    # elif user_group == 'active':\n",
    "                        # _active_pre, _active_rec, _active_map, _active_ndcg = resutl_file['Precision'].values[0], resutl_file['Recall'].values[0], resutl_file['MAP'].values[0], resutl_file['NDCG'].values[0]\n",
    "                    # elif user_group == 'inactive':\n",
    "                        # _inactive_pre, _inactive_rec, _inactive_map, _inactive_ndcg = resutl_file['Precision'].values[0], resutl_file['Recall'].values[0], resutl_file['MAP'].values[0], resutl_file['NDCG'].values[0]\n",
    "\n",
    "                # results_df.write(f\"{dataset},{model},{fusion},{_all_pre},{_all_rec},{_all_map},{round(_all_ndcg, 4)},{_leisure_pre},{round(_leisure_rec, 4)},{_leisure_map},{_leisure_ndcg},{round(_working_pre, 4)},{round(_working_rec, 4)},{_working_map},{round(_working_ndcg,4)},{_active_pre},{round(_active_rec)},{_active_map},{_active_ndcg},{_inactive_pre},{_inactive_rec},{_inactive_map},{_inactive_ndcg}\\n\")\n",
    "                # results_df.write(f\"{dataset},{model},{fusion},{round(_all_pre, 4)},{round(_all_rec, 4)},{_all_map},{round(_all_ndcg, 4)},{_leisure_pre},{round(_leisure_rec, 4)},{_leisure_map},{_leisure_ndcg},{round(_working_pre, 4)},{round(_working_rec, 4)},{_working_map},{round(_working_ndcg,4)}\\n\")\n",
    "                results_df.write(f\"{dataset},{model},{fusion},{round(_all_pre, 4)},{round(_leisure_pre,4)},{round(_working_pre, 4)},{round(_all_rec, 4)},{round(_leisure_rec, 4)},{round(_working_rec, 4)},{round(_all_ndcg, 4)},{round(_leisure_ndcg, 4)},{round(_working_ndcg,4)},{round(_leisure_ndcg - _working_ndcg, 4)}\\n\")"
   ]
  },
  {
   "cell_type": "code",
   "execution_count": null,
   "metadata": {},
   "outputs": [],
   "source": [
    "results_df.close()"
   ]
  },
  {
   "cell_type": "code",
   "execution_count": null,
   "metadata": {},
   "outputs": [],
   "source": []
  }
 ],
 "metadata": {
  "interpreter": {
   "hash": "0adcc2737ebf6a4a119f135174df96668767fca1ef1112612db5ecadf2b6d608"
  },
  "kernelspec": {
   "display_name": "Python 3.8.0 64-bit",
   "language": "python",
   "name": "python3"
  },
  "language_info": {
   "codemirror_mode": {
    "name": "ipython",
    "version": 3
   },
   "file_extension": ".py",
   "mimetype": "text/x-python",
   "name": "python",
   "nbconvert_exporter": "python",
   "pygments_lexer": "ipython3",
   "version": "3.8.0"
  },
  "orig_nbformat": 4
 },
 "nbformat": 4,
 "nbformat_minor": 2
}
