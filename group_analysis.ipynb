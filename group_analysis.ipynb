{
 "cells": [
  {
   "cell_type": "markdown",
   "metadata": {},
   "source": [
    "In this notebook we analyze the charactristics of the generated item and user groups."
   ]
  },
  {
   "cell_type": "code",
   "execution_count": 1,
   "metadata": {},
   "outputs": [],
   "source": [
    "import pandas as pd\n",
    "from collections import defaultdict\n",
    "from datetime import datetime\n",
    "from tqdm import tqdm"
   ]
  },
  {
   "cell_type": "code",
   "execution_count": 2,
   "metadata": {},
   "outputs": [],
   "source": [
    "ds_name = \"Gowalla\""
   ]
  },
  {
   "cell_type": "markdown",
   "metadata": {},
   "source": [
    "## Item Groups"
   ]
  },
  {
   "cell_type": "code",
   "execution_count": 3,
   "metadata": {},
   "outputs": [],
   "source": [
    "item_top_fraction = 0.2"
   ]
  },
  {
   "cell_type": "code",
   "execution_count": 4,
   "metadata": {},
   "outputs": [],
   "source": [
    "# loading ds_name dataset\n",
    "dataset = pd.read_csv(f\"datasets/{ds_name}/{ds_name}_train.txt\", sep=\"\\t\", names=['uid', 'iid', 'count'])"
   ]
  },
  {
   "cell_type": "code",
   "execution_count": 5,
   "metadata": {},
   "outputs": [],
   "source": [
    "# To read the popularit of itmes from a implicit feedback type datasets\n",
    "def read_item_popularity():\n",
    "    print(\"Reading implicit item popularity ...\")\n",
    "    items_freq = dict()\n",
    "    global user_interactions\n",
    "    for eachline in tqdm(dataset.itertuples(index=True)):\n",
    "        # iid, count = int(eachline.iid), int(eachline.count)\n",
    "        uid, iid, count = int(eachline.uid), int(eachline.iid), int(eachline.count)\n",
    "        uid, iid, count = int(uid), int(iid), int(count)\n",
    "        # Adding users and their corresponding items\n",
    "        # We need to loop on the user interaction frequency with item in implicit feedback\n",
    "        for i in range(count):\n",
    "            if uid in user_interactions.keys():\n",
    "                user_interactions[uid].append(iid)\n",
    "            else:\n",
    "                user_interactions[uid] = [iid]\n",
    "        # Adding the interaction frequency (implicit) of items\n",
    "        if iid in items_freq.keys():\n",
    "            items_freq[iid] += count\n",
    "        else:\n",
    "            items_freq[iid] = count\n",
    "    return items_freq"
   ]
  },
  {
   "cell_type": "code",
   "execution_count": 12,
   "metadata": {},
   "outputs": [],
   "source": [
    "# len(user_interactions[188])"
   ]
  },
  {
   "cell_type": "code",
   "execution_count": 7,
   "metadata": {},
   "outputs": [],
   "source": [
    "# A dictionary to store users and the items in their profiles \n",
    "user_interactions = defaultdict(list)"
   ]
  },
  {
   "cell_type": "code",
   "execution_count": 8,
   "metadata": {},
   "outputs": [
    {
     "name": "stderr",
     "output_type": "stream",
     "text": [
      "24272it [00:00, 242683.20it/s]"
     ]
    },
    {
     "name": "stdout",
     "output_type": "stream",
     "text": [
      "Reading implicit item popularity ...\n"
     ]
    },
    {
     "name": "stderr",
     "output_type": "stream",
     "text": [
      "262714it [00:01, 262133.27it/s]"
     ]
    },
    {
     "name": "stdout",
     "output_type": "stream",
     "text": [
      "No. items: 30943\n"
     ]
    },
    {
     "name": "stderr",
     "output_type": "stream",
     "text": [
      "\n"
     ]
    }
   ],
   "source": [
    "item_freq = read_item_popularity()\n",
    "num_items = len(item_freq)\n",
    "print('No. items: ' + str(num_items))"
   ]
  },
  {
   "cell_type": "code",
   "execution_count": 8,
   "metadata": {},
   "outputs": [
    {
     "name": "stdout",
     "output_type": "stream",
     "text": [
      "No. top items: 3115\n"
     ]
    }
   ],
   "source": [
    "# get top items\n",
    "num_top = int(item_top_fraction * num_items)\n",
    "# sort items according to the no. of recevied interactions from users\n",
    "sorted_item_freq = {k: v for k, v in sorted(item_freq.items(), key=lambda item: item[1], reverse=True)}\n",
    "short_heads = list(sorted_item_freq.keys())[:num_top] # top popular items based on the item_top_fractin\n",
    "long_tails = list(sorted_item_freq.keys())[num_top:] # log-tail items\n",
    "print('No. top items: ' + str(num_top))"
   ]
  },
  {
   "cell_type": "code",
   "execution_count": 9,
   "metadata": {},
   "outputs": [
    {
     "name": "stderr",
     "output_type": "stream",
     "text": [
      "100%|██████████| 196866/196866 [00:00<00:00, 468085.46it/s]\n"
     ]
    }
   ],
   "source": [
    "# read check-in frequency from train data\n",
    "train_data = open(f\"datasets/{ds_name}/{ds_name}_train.txt\", 'r').readlines()\n",
    "# uid -> set([lids])\n",
    "uid_to_lids = defaultdict(set)\n",
    "# uid -> check-in freq\n",
    "uid_to_freq = dict()\n",
    "\n",
    "for eachline in tqdm(train_data):\n",
    "    uid, lid, freq = eachline.strip().split()\n",
    "    uid, lid, freq = int(uid), int(lid), int(freq)\n",
    "    if uid in uid_to_freq.keys():\n",
    "        uid_to_lids[uid].add(lid)\n",
    "        uid_to_freq[uid] += freq\n",
    "    else:\n",
    "        uid_to_lids[uid] = {lid}\n",
    "        uid_to_freq[uid] = freq"
   ]
  },
  {
   "cell_type": "code",
   "execution_count": 11,
   "metadata": {},
   "outputs": [],
   "source": [
    "leisure_users = pd.read_csv(f\"groups/user_groups/{ds_name}/leisure.txt\", names=['uid'])\n",
    "working_users = pd.read_csv(f\"groups/user_groups/{ds_name}/working.txt\", names=['uid'])"
   ]
  },
  {
   "cell_type": "code",
   "execution_count": 12,
   "metadata": {},
   "outputs": [],
   "source": [
    "def pop_item_counter(uid):\n",
    "    global uid_to_lids\n",
    "    pop_in_profile_count = 0\n",
    "    for eachuid in uid_to_lids[uid]:\n",
    "        if int(eachuid) in set(short_heads):\n",
    "            pop_in_profile_count += 1\n",
    "    return pop_in_profile_count"
   ]
  },
  {
   "cell_type": "code",
   "execution_count": 13,
   "metadata": {},
   "outputs": [
    {
     "name": "stderr",
     "output_type": "stream",
     "text": [
      "1427it [00:00, 7329.06it/s]\n",
      "1427it [00:00, 7884.80it/s]"
     ]
    },
    {
     "name": "stdout",
     "output_type": "stream",
     "text": [
      "Avg. Pop Items in Leisure Users: 0.6145489810279476\n",
      "Avg. Pop Items in Working Users: 0.6581704268634869\n"
     ]
    },
    {
     "name": "stderr",
     "output_type": "stream",
     "text": [
      "\n"
     ]
    }
   ],
   "source": [
    "leisure_pop_profile_count = 0\n",
    "working_pop_profile_count = 0\n",
    "\n",
    "for eachuid in tqdm(leisure_users.itertuples(index=True)):\n",
    "    leisure_pop_profile_count += len(uid_to_lids[eachuid.uid] & set(short_heads)) / len(uid_to_lids[eachuid.uid])\n",
    "    # leisure_pop_profile_count += pop_item_counter(uid=eachuid.uid)\n",
    "\n",
    "for eachuid in tqdm(working_users.itertuples(index=True)):\n",
    "    working_pop_profile_count += len(uid_to_lids[eachuid.uid] & set(short_heads)) / len(uid_to_lids[eachuid.uid])\n",
    "    # working_pop_profile_count += pop_item_counter(uid=eachuid.uid)\n",
    "\n",
    "print(f\"Avg. Pop Items in Leisure Users: {leisure_pop_profile_count / leisure_users.shape[0]}\")\n",
    "print(f\"Avg. Pop Items in Working Users: {working_pop_profile_count / working_users.shape[0]}\")"
   ]
  },
  {
   "cell_type": "code",
   "execution_count": 14,
   "metadata": {},
   "outputs": [
    {
     "name": "stdout",
     "output_type": "stream",
     "text": [
      "Avg. Leisure Profile Size: 313.1030133146461\n",
      "Avg. Working Profile Size: 31.384022424667133\n"
     ]
    }
   ],
   "source": [
    "leisure_users_profile_size = 0\n",
    "working_users_profile_size = 0\n",
    "\n",
    "for eachuid in leisure_users.itertuples(index=True):\n",
    "    leisure_users_profile_size += uid_to_freq[eachuid.uid]\n",
    "\n",
    "for eachuid in working_users.itertuples(index=True):\n",
    "    working_users_profile_size += uid_to_freq[eachuid.uid]\n",
    "\n",
    "print(f\"Avg. Leisure Profile Size: {leisure_users_profile_size / leisure_users.shape[0]}\")\n",
    "print(f\"Avg. Working Profile Size: {working_users_profile_size / working_users.shape[0]}\")"
   ]
  },
  {
   "cell_type": "code",
   "execution_count": 15,
   "metadata": {},
   "outputs": [
    {
     "data": {
      "text/plain": [
       "446798"
      ]
     },
     "execution_count": 15,
     "metadata": {},
     "output_type": "execute_result"
    }
   ],
   "source": [
    "leisure_users_profile_size"
   ]
  },
  {
   "cell_type": "code",
   "execution_count": 16,
   "metadata": {},
   "outputs": [
    {
     "data": {
      "text/plain": [
       "44785"
      ]
     },
     "execution_count": 16,
     "metadata": {},
     "output_type": "execute_result"
    }
   ],
   "source": [
    "working_users_profile_size"
   ]
  },
  {
   "cell_type": "code",
   "execution_count": null,
   "metadata": {},
   "outputs": [],
   "source": []
  }
 ],
 "metadata": {
  "interpreter": {
   "hash": "0adcc2737ebf6a4a119f135174df96668767fca1ef1112612db5ecadf2b6d608"
  },
  "kernelspec": {
   "display_name": "Python 3.8.0 64-bit",
   "language": "python",
   "name": "python3"
  },
  "language_info": {
   "codemirror_mode": {
    "name": "ipython",
    "version": 3
   },
   "file_extension": ".py",
   "mimetype": "text/x-python",
   "name": "python",
   "nbconvert_exporter": "python",
   "pygments_lexer": "ipython3",
   "version": "3.8.0"
  },
  "orig_nbformat": 4
 },
 "nbformat": 4,
 "nbformat_minor": 2
}
